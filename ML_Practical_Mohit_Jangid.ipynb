{
 "cells": [
  {
   "cell_type": "code",
   "execution_count": 1,
   "metadata": {},
   "outputs": [
    {
     "name": "stdout",
     "output_type": "stream",
     "text": [
      "MOHIT JANGID\n",
      "18EJICS092\n"
     ]
    }
   ],
   "source": [
    "print(\"MOHIT JANGID\")\n",
    "print(\"18EJICS092\")"
   ]
  },
  {
   "cell_type": "markdown",
   "metadata": {},
   "source": [
    "Q.1 Write and execute a User Interfacing Program (UIP) to apply the Naïve\n",
    "Bayesian Classifier for News Articles classification, considering the\n",
    "dataset given in .csv file (attachment). For the given objective, following\n",
    "points are to be justified:\n",
    "\n",
    "(a) Use any python supporting platform. Built in Python ML\n",
    "Library/Modules can be used.\n",
    "\n",
    "(b) Print your name and roll no. using a suitable instruction.\n",
    "\n",
    "(c) Read the dataset by using a suitable file path.\n",
    "\n",
    "(d) Segregate the Training and Testing data set in ratio of 72% and 28%\n",
    "respectively.\n",
    "\n",
    "(e) Print the correct and wrong predictions.\n",
    "\n",
    "(f) Print the confusion matrix.\n",
    "\n",
    "(g) Compute the Accuracy, Precision and Recall.\n",
    "\n",
    "(h) Apply a suitable method to improve the accuracy.\n",
    "\n",
    "(i) Print a conclusion comment.\n",
    "\n",
    "(j) Submit only the .ipynb program files (which displays the output\n",
    "also) as answer for this question. Write-up in answer-sheet is not\n",
    "required.\n"
   ]
  },
  {
   "cell_type": "code",
   "execution_count": 2,
   "metadata": {},
   "outputs": [],
   "source": [
    "import pandas as pd \n",
    "import numpy as np"
   ]
  },
  {
   "cell_type": "code",
   "execution_count": 3,
   "metadata": {},
   "outputs": [],
   "source": [
    "df=pd.read_csv(\"Q1_dataset.csv\")"
   ]
  },
  {
   "cell_type": "code",
   "execution_count": 4,
   "metadata": {},
   "outputs": [
    {
     "name": "stdout",
     "output_type": "stream",
     "text": [
      "   Document         K1         K2          K3         K4          K5  \\\n",
      "0        D1      virus      china    covaxine      death   isolation   \n",
      "1        D2    vaccine      virus  covishield    recover        case   \n",
      "2        D3      india   positive       china       slot      active   \n",
      "3        D4     active   medicine       virus   positive    lockdown   \n",
      "4        D5      china  covaxcine     economy       test  covishield   \n",
      "5        D6  isolation     people     vaccine    recover    lockdown   \n",
      "6        D7       test     active     student      virus  covishield   \n",
      "7        D8        bat        fit     batsman       rest      ground   \n",
      "8        D9    healthy       ball     morning     sachin      oneday   \n",
      "9       D10     ground       play     healthy      dhoni     batsman   \n",
      "10      D11      dhoni        bat      ground       test      oneday   \n",
      "11      D12     oneday       team        play        fit         cup   \n",
      "12      D13      dhoni     ground      trophy     sachin        play   \n",
      "13      D14       ball       play         fit        win         bat   \n",
      "14      D15       modi   congress     channel      party       india   \n",
      "15      D16      india     bengal      petrol        bjp       money   \n",
      "16      D17   congress      mamta        modi      party    amitshah   \n",
      "17      D18   amitshah      money   swissbank   congress       mamta   \n",
      "18      D19       modi     petrol     channel  swissbank  corruption   \n",
      "19      D20    channel  swissbank       money      bribe        modi   \n",
      "20      D21      party        bjp      bengal     petrol       mamta   \n",
      "\n",
      "   News Category  \n",
      "0          COVID  \n",
      "1          COVID  \n",
      "2          COVID  \n",
      "3          COVID  \n",
      "4          COVID  \n",
      "5          COVID  \n",
      "6          COVID  \n",
      "7         SPORTS  \n",
      "8         SPORTS  \n",
      "9         SPORTS  \n",
      "10        SPORTS  \n",
      "11        SPORTS  \n",
      "12        SPORTS  \n",
      "13        SPORTS  \n",
      "14      POLITICS  \n",
      "15      POLITICS  \n",
      "16      POLITICS  \n",
      "17      POLITICS  \n",
      "18      POLITICS  \n",
      "19      POLITICS  \n",
      "20      POLITICS  \n"
     ]
    }
   ],
   "source": [
    "print(df)"
   ]
  },
  {
   "cell_type": "code",
   "execution_count": 5,
   "metadata": {},
   "outputs": [],
   "source": [
    "# document wont contribute to model and will create a sparse matrix hence we drop document column\n",
    "df.drop([\"Document\"],axis=1,inplace=True)"
   ]
  },
  {
   "cell_type": "code",
   "execution_count": 6,
   "metadata": {},
   "outputs": [],
   "source": [
    "X=df.drop([\"News Category\"],axis=1)\n",
    "y=df['News Category']"
   ]
  },
  {
   "cell_type": "code",
   "execution_count": 7,
   "metadata": {},
   "outputs": [],
   "source": [
    "X=pd.get_dummies(X)"
   ]
  },
  {
   "cell_type": "code",
   "execution_count": 8,
   "metadata": {},
   "outputs": [],
   "source": [
    "from sklearn import preprocessing\n",
    "le = preprocessing.LabelEncoder()\n",
    "y=le.fit_transform(y)"
   ]
  },
  {
   "cell_type": "code",
   "execution_count": 9,
   "metadata": {},
   "outputs": [
    {
     "name": "stdout",
     "output_type": "stream",
     "text": [
      "[0 0 0 0 0 0 0 2 2 2 2 2 2 2 1 1 1 1 1 1 1]\n"
     ]
    }
   ],
   "source": [
    "print(y)"
   ]
  },
  {
   "cell_type": "code",
   "execution_count": 10,
   "metadata": {},
   "outputs": [],
   "source": [
    "from sklearn.model_selection import train_test_split\n",
    "X_train, X_test, y_train, y_test = train_test_split( X, y, test_size=0.28, random_state=42)"
   ]
  },
  {
   "cell_type": "code",
   "execution_count": 20,
   "metadata": {},
   "outputs": [
    {
     "name": "stdout",
     "output_type": "stream",
     "text": [
      "X_shape (21, 92)\n",
      "y_shape (21,)\n",
      "X_train_shape (15, 92)\n",
      "y_train_shape (15,)\n",
      "X_test_shape (6, 92)\n",
      "y_test_shape (6,)\n"
     ]
    }
   ],
   "source": [
    "print(\"X_shape\",X.shape)\n",
    "print(\"y_shape\",y.shape)\n",
    "print(\"X_train_shape\",X_train.shape)\n",
    "print(\"y_train_shape\",y_train.shape)\n",
    "print(\"X_test_shape\",X_test.shape)\n",
    "print(\"y_test_shape\",y_test.shape)"
   ]
  },
  {
   "cell_type": "code",
   "execution_count": 11,
   "metadata": {},
   "outputs": [
    {
     "data": {
      "text/plain": [
       "GaussianNB()"
      ]
     },
     "execution_count": 11,
     "metadata": {},
     "output_type": "execute_result"
    }
   ],
   "source": [
    "from sklearn.naive_bayes import GaussianNB \n",
    "gnb = GaussianNB()\n",
    "gnb.fit(X_train, y_train)\n"
   ]
  },
  {
   "cell_type": "code",
   "execution_count": 13,
   "metadata": {},
   "outputs": [],
   "source": [
    "y_pred = gnb.predict(X_test)"
   ]
  },
  {
   "cell_type": "code",
   "execution_count": 24,
   "metadata": {},
   "outputs": [
    {
     "name": "stdout",
     "output_type": "stream",
     "text": [
      "[0 1 0 0 2 0]\n"
     ]
    }
   ],
   "source": [
    "print(y_pred)"
   ]
  },
  {
   "cell_type": "code",
   "execution_count": 26,
   "metadata": {},
   "outputs": [
    {
     "name": "stdout",
     "output_type": "stream",
     "text": [
      "Number of mislabeled points out of a total 6 points : 1\n"
     ]
    }
   ],
   "source": [
    "#Print the correct and wrong predictions.\n",
    "print(\"Number of mislabeled points out of a total %d points : %d\"% (X_test.shape[0], (y_test != y_pred).sum()))"
   ]
  },
  {
   "cell_type": "code",
   "execution_count": 32,
   "metadata": {},
   "outputs": [
    {
     "name": "stdout",
     "output_type": "stream",
     "text": [
      "[[3 0 0]\n",
      " [1 1 0]\n",
      " [0 0 1]]\n"
     ]
    }
   ],
   "source": [
    "#(f) Print the confusion matrix.\n",
    "from sklearn.metrics import confusion_matrix\n",
    "cm=confusion_matrix(y_test, y_pred)\n",
    "print(cm)"
   ]
  },
  {
   "cell_type": "code",
   "execution_count": 31,
   "metadata": {},
   "outputs": [
    {
     "data": {
      "text/plain": [
       "<matplotlib.axes._subplots.AxesSubplot at 0x22079dbf1d0>"
      ]
     },
     "execution_count": 31,
     "metadata": {},
     "output_type": "execute_result"
    },
    {
     "data": {
      "image/png": "[encoded data removed]",
      "text/plain": [
       "<Figure size 432x288 with 2 Axes>"
      ]
     },
     "metadata": {
      "needs_background": "light"
     },
     "output_type": "display_data"
    }
   ],
   "source": [
    "import seaborn as sn\n",
    "sn.heatmap(cm, annot=True, annot_kws={\"size\": 16})"
   ]
  },
  {
   "cell_type": "code",
   "execution_count": 34,
   "metadata": {},
   "outputs": [
    {
     "name": "stdout",
     "output_type": "stream",
     "text": [
      "ACCURACY SCORE IS:\n"
     ]
    },
    {
     "data": {
      "text/plain": [
       "0.8333333333333334"
      ]
     },
     "execution_count": 34,
     "metadata": {},
     "output_type": "execute_result"
    }
   ],
   "source": [
    "from sklearn.metrics import accuracy_score\n",
    "print(\"ACCURACY SCORE IS:\")\n",
    "accuracy_score(y_test, y_pred)"
   ]
  },
  {
   "cell_type": "code",
   "execution_count": 36,
   "metadata": {},
   "outputs": [
    {
     "name": "stdout",
     "output_type": "stream",
     "text": [
      "RECALL\n"
     ]
    },
    {
     "data": {
      "text/plain": [
       "0.8333333333333334"
      ]
     },
     "execution_count": 36,
     "metadata": {},
     "output_type": "execute_result"
    }
   ],
   "source": [
    "from sklearn.metrics import recall_score\n",
    "print(\"RECALL\")\n",
    "recall_score(y_test, y_pred, average='macro')"
   ]
  },
  {
   "cell_type": "code",
   "execution_count": 40,
   "metadata": {},
   "outputs": [
    {
     "data": {
      "text/plain": [
       "0.9166666666666666"
      ]
     },
     "execution_count": 40,
     "metadata": {},
     "output_type": "execute_result"
    }
   ],
   "source": [
    "from sklearn.metrics import precision_score\n",
    "precision_score(y_test, y_pred, average='macro')"
   ]
  },
  {
   "cell_type": "code",
   "execution_count": 41,
   "metadata": {},
   "outputs": [
    {
     "name": "stdout",
     "output_type": "stream",
     "text": [
      "              precision    recall  f1-score   support\n",
      "\n",
      "           0       0.75      1.00      0.86         3\n",
      "           1       1.00      0.50      0.67         2\n",
      "           2       1.00      1.00      1.00         1\n",
      "\n",
      "    accuracy                           0.83         6\n",
      "   macro avg       0.92      0.83      0.84         6\n",
      "weighted avg       0.88      0.83      0.82         6\n",
      "\n"
     ]
    }
   ],
   "source": [
    "from sklearn.metrics import classification_report\n",
    "print(classification_report(y_test, y_pred))"
   ]
  },
  {
   "cell_type": "code",
   "execution_count": 69,
   "metadata": {},
   "outputs": [
    {
     "name": "stderr",
     "output_type": "stream",
     "text": [
      "C:\\Users\\hp\\Anaconda3\\lib\\site-packages\\sklearn\\model_selection\\_split.py:668: UserWarning: The least populated class in y has only 4 members, which is less than n_splits=5.\n",
      "  % (min_groups, self.n_splits)), UserWarning)\n"
     ]
    },
    {
     "data": {
      "text/plain": [
       "KNeighborsClassifier(leaf_size=10, n_neighbors=3, weights='distance')"
      ]
     },
     "execution_count": 69,
     "metadata": {},
     "output_type": "execute_result"
    }
   ],
   "source": [
    "#(h) Apply a suitable method to improve the accuracy.\n",
    "\n",
    "from sklearn.neighbors import KNeighborsClassifier\n",
    "from sklearn.model_selection import GridSearchCV\n",
    "\n",
    "knn = KNeighborsClassifier()\n",
    "\n",
    "# Hyperparameter Optimization\n",
    "parameters = {'n_neighbors': [3, 4, 5, 10], \n",
    "              'weights': ['uniform', 'distance'],\n",
    "              'algorithm' : ['auto', 'ball_tree', 'kd_tree', 'brute'],\n",
    "              'leaf_size' : [10, 20, 30, 50]\n",
    "             }\n",
    "\n",
    "grid_obj = GridSearchCV(knn, parameters)\n",
    "grid_obj = grid_obj.fit(X_train, y_train)\n",
    "\n",
    "# Set the knn to the best combination of parameters\n",
    "knn = grid_obj.best_estimator_\n",
    "\n",
    "knn.fit(X_train,y_train)"
   ]
  },
  {
   "cell_type": "code",
   "execution_count": 70,
   "metadata": {},
   "outputs": [],
   "source": [
    "pred=knn.predict(X_test)"
   ]
  },
  {
   "cell_type": "code",
   "execution_count": 71,
   "metadata": {},
   "outputs": [
    {
     "data": {
      "text/plain": [
       "0.8333333333333334"
      ]
     },
     "execution_count": 71,
     "metadata": {},
     "output_type": "execute_result"
    }
   ],
   "source": [
    "accuracy_score(y_test, pred)"
   ]
  },
  {
   "cell_type": "code",
   "execution_count": 72,
   "metadata": {},
   "outputs": [
    {
     "name": "stdout",
     "output_type": "stream",
     "text": [
      "              precision    recall  f1-score   support\n",
      "\n",
      "           0       0.75      1.00      0.86         3\n",
      "           1       1.00      0.50      0.67         2\n",
      "           2       1.00      1.00      1.00         1\n",
      "\n",
      "    accuracy                           0.83         6\n",
      "   macro avg       0.92      0.83      0.84         6\n",
      "weighted avg       0.88      0.83      0.82         6\n",
      "\n"
     ]
    }
   ],
   "source": [
    "print(classification_report(y_test, pred))"
   ]
  },
  {
   "cell_type": "code",
   "execution_count": null,
   "metadata": {},
   "outputs": [],
   "source": []
  }
 ],
 "metadata": {
  "kernelspec": {
   "display_name": "Python 3",
   "language": "python",
   "name": "python3"
  },
  "language_info": {
   "codemirror_mode": {
    "name": "ipython",
    "version": 3
   },
   "file_extension": ".py",
   "mimetype": "text/x-python",
   "name": "python",
   "nbconvert_exporter": "python",
   "pygments_lexer": "ipython3",
   "version": "3.8.5"
  }
 },
 "nbformat": 4,
 "nbformat_minor": 2
}
